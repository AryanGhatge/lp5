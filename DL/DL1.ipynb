{
  "cells": [
    {
      "cell_type": "code",
      "execution_count": null,
      "metadata": {
        "id": "CGgdey_v70QW"
      },
      "outputs": [],
      "source": [
        "# Class: B.E. A\n",
        "# Batch: A1\n",
        "# Name: Aryan Ghatge\n",
        "# Roll No.: 4101005\n",
        "# LP-V (DL) lab-5"
      ]
    },
    {
      "cell_type": "code",
      "execution_count": null,
      "metadata": {
        "id": "St8B2xAC3SLM"
      },
      "outputs": [],
      "source": [
        "import tensorflow as tf\n",
        "from tensorflow.keras.models import Sequential\n",
        "from tensorflow.keras.layers import Dense, Dropout\n",
        "from sklearn.model_selection import train_test_split\n",
        "from sklearn.preprocessing import StandardScaler\n",
        "from sklearn.datasets import fetch_california_housing"
      ]
    },
    {
      "cell_type": "code",
      "execution_count": null,
      "metadata": {
        "id": "fhfbaeAm3XL4"
      },
      "outputs": [],
      "source": [
        "# Load and split the dataset (Independent variables X, Dependent variable y)\n",
        "data = fetch_california_housing()\n",
        "X_train, X_test, y_train, y_test = train_test_split(data.data, data.target, test_size=0.2, random_state=42)"
      ]
    },
    {
      "cell_type": "code",
      "execution_count": null,
      "metadata": {
        "id": "oBF0xXTe3f5E"
      },
      "outputs": [],
      "source": [
        "# Standardize the data to improve model performance\n",
        "scaler = StandardScaler()\n",
        "X_train, X_test = scaler.fit_transform(X_train), scaler.transform(X_test)"
      ]
    },
    {
      "cell_type": "code",
      "execution_count": null,
      "metadata": {
        "colab": {
          "base_uri": "https://localhost:8080/",
          "height": 0
        },
        "id": "oDVX5qTJ3lSc",
        "outputId": "40fcd736-d85a-47b2-a1a9-8bd4832625d6"
      },
      "outputs": [
        {
          "name": "stderr",
          "output_type": "stream",
          "text": [
            "/usr/local/lib/python3.11/dist-packages/keras/src/layers/core/dense.py:87: UserWarning: Do not pass an `input_shape`/`input_dim` argument to a layer. When using Sequential models, prefer using an `Input(shape)` object as the first layer in the model instead.\n",
            "  super().__init__(activity_regularizer=activity_regularizer, **kwargs)\n"
          ]
        }
      ],
      "source": [
        "# Define the Deep Neural Network (DNN) model with enhancements\n",
        "model = Sequential([\n",
        "    Dense(128, activation='relu', input_shape=(X_train.shape[1],)),  # Increased neurons\n",
        "    Dropout(0.2),  # Dropout to prevent overfitting\n",
        "    Dense(64, activation='relu'),\n",
        "    Dropout(0.2),\n",
        "    Dense(32, activation='relu'),\n",
        "    Dense(1)  # Linear output layer for predicting continuous values\n",
        "])"
      ]
    },
    {
      "cell_type": "code",
      "execution_count": null,
      "metadata": {
        "id": "Cnavxvlp3ope"
      },
      "outputs": [],
      "source": [
        "# Compile the model with a lower learning rate\n",
        "model.compile(optimizer=tf.keras.optimizers.Adam(learning_rate=0.001), loss='mse', metrics=['mae'])"
      ]
    },
    {
      "cell_type": "code",
      "execution_count": null,
      "metadata": {
        "colab": {
          "base_uri": "https://localhost:8080/",
          "height": 0
        },
        "collapsed": true,
        "id": "763D36mb3udE",
        "outputId": "cb430b46-391d-4182-88e5-3763f00e0ce3"
      },
      "outputs": [
        {
          "name": "stdout",
          "output_type": "stream",
          "text": [
            "Epoch 1/100\n",
            "\u001b[1m1032/1032\u001b[0m \u001b[32m━━━━━━━━━━━━━━━━━━━━\u001b[0m\u001b[37m\u001b[0m \u001b[1m9s\u001b[0m 4ms/step - loss: 1.2394 - mae: 0.7394 - val_loss: 0.4215 - val_mae: 0.4507\n",
            "Epoch 2/100\n",
            "\u001b[1m1032/1032\u001b[0m \u001b[32m━━━━━━━━━━━━━━━━━━━━\u001b[0m\u001b[37m\u001b[0m \u001b[1m6s\u001b[0m 5ms/step - loss: 0.4710 - mae: 0.4877 - val_loss: 0.3803 - val_mae: 0.4351\n",
            "Epoch 3/100\n",
            "\u001b[1m1032/1032\u001b[0m \u001b[32m━━━━━━━━━━━━━━━━━━━━\u001b[0m\u001b[37m\u001b[0m \u001b[1m2s\u001b[0m 2ms/step - loss: 0.4074 - mae: 0.4555 - val_loss: 0.3641 - val_mae: 0.4119\n",
            "Epoch 4/100\n",
            "\u001b[1m1032/1032\u001b[0m \u001b[32m━━━━━━━━━━━━━━━━━━━━\u001b[0m\u001b[37m\u001b[0m \u001b[1m2s\u001b[0m 2ms/step - loss: 0.3775 - mae: 0.4358 - val_loss: 0.3844 - val_mae: 0.4485\n",
            "Epoch 5/100\n",
            "\u001b[1m1032/1032\u001b[0m \u001b[32m━━━━━━━━━━━━━━━━━━━━\u001b[0m\u001b[37m\u001b[0m \u001b[1m2s\u001b[0m 2ms/step - loss: 0.3698 - mae: 0.4308 - val_loss: 0.3358 - val_mae: 0.3932\n",
            "Epoch 6/100\n",
            "\u001b[1m1032/1032\u001b[0m \u001b[32m━━━━━━━━━━━━━━━━━━━━\u001b[0m\u001b[37m\u001b[0m \u001b[1m3s\u001b[0m 2ms/step - loss: 0.3509 - mae: 0.4166 - val_loss: 0.3317 - val_mae: 0.3960\n",
            "Epoch 7/100\n",
            "\u001b[1m1032/1032\u001b[0m \u001b[32m━━━━━━━━━━━━━━━━━━━━\u001b[0m\u001b[37m\u001b[0m \u001b[1m2s\u001b[0m 2ms/step - loss: 0.3324 - mae: 0.4050 - val_loss: 0.3077 - val_mae: 0.3860\n",
            "Epoch 8/100\n",
            "\u001b[1m1032/1032\u001b[0m \u001b[32m━━━━━━━━━━━━━━━━━━━━\u001b[0m\u001b[37m\u001b[0m \u001b[1m3s\u001b[0m 2ms/step - loss: 0.3315 - mae: 0.4050 - val_loss: 0.2980 - val_mae: 0.3730\n",
            "Epoch 9/100\n",
            "\u001b[1m1032/1032\u001b[0m \u001b[32m━━━━━━━━━━━━━━━━━━━━\u001b[0m\u001b[37m\u001b[0m \u001b[1m2s\u001b[0m 2ms/step - loss: 0.3151 - mae: 0.3919 - val_loss: 0.2960 - val_mae: 0.3740\n",
            "Epoch 10/100\n",
            "\u001b[1m1032/1032\u001b[0m \u001b[32m━━━━━━━━━━━━━━━━━━━━\u001b[0m\u001b[37m\u001b[0m \u001b[1m2s\u001b[0m 2ms/step - loss: 0.3182 - mae: 0.3914 - val_loss: 0.2894 - val_mae: 0.3638\n",
            "Epoch 11/100\n",
            "\u001b[1m1032/1032\u001b[0m \u001b[32m━━━━━━━━━━━━━━━━━━━━\u001b[0m\u001b[37m\u001b[0m \u001b[1m2s\u001b[0m 2ms/step - loss: 0.3147 - mae: 0.3913 - val_loss: 0.2900 - val_mae: 0.3780\n",
            "Epoch 12/100\n",
            "\u001b[1m1032/1032\u001b[0m \u001b[32m━━━━━━━━━━━━━━━━━━━━\u001b[0m\u001b[37m\u001b[0m \u001b[1m2s\u001b[0m 2ms/step - loss: 0.3148 - mae: 0.3861 - val_loss: 0.2911 - val_mae: 0.3762\n",
            "Epoch 13/100\n",
            "\u001b[1m1032/1032\u001b[0m \u001b[32m━━━━━━━━━━━━━━━━━━━━\u001b[0m\u001b[37m\u001b[0m \u001b[1m3s\u001b[0m 3ms/step - loss: 0.2997 - mae: 0.3787 - val_loss: 0.2879 - val_mae: 0.3763\n",
            "Epoch 14/100\n",
            "\u001b[1m1032/1032\u001b[0m \u001b[32m━━━━━━━━━━━━━━━━━━━━\u001b[0m\u001b[37m\u001b[0m \u001b[1m4s\u001b[0m 2ms/step - loss: 0.3032 - mae: 0.3801 - val_loss: 0.2815 - val_mae: 0.3639\n",
            "Epoch 15/100\n",
            "\u001b[1m1032/1032\u001b[0m \u001b[32m━━━━━━━━━━━━━━━━━━━━\u001b[0m\u001b[37m\u001b[0m \u001b[1m2s\u001b[0m 2ms/step - loss: 0.3062 - mae: 0.3830 - val_loss: 0.2843 - val_mae: 0.3623\n",
            "Epoch 16/100\n",
            "\u001b[1m1032/1032\u001b[0m \u001b[32m━━━━━━━━━━━━━━━━━━━━\u001b[0m\u001b[37m\u001b[0m \u001b[1m2s\u001b[0m 2ms/step - loss: 0.2963 - mae: 0.3767 - val_loss: 0.2769 - val_mae: 0.3549\n",
            "Epoch 17/100\n",
            "\u001b[1m1032/1032\u001b[0m \u001b[32m━━━━━━━━━━━━━━━━━━━━\u001b[0m\u001b[37m\u001b[0m \u001b[1m3s\u001b[0m 2ms/step - loss: 0.2860 - mae: 0.3740 - val_loss: 0.2719 - val_mae: 0.3579\n",
            "Epoch 18/100\n",
            "\u001b[1m1032/1032\u001b[0m \u001b[32m━━━━━━━━━━━━━━━━━━━━\u001b[0m\u001b[37m\u001b[0m \u001b[1m4s\u001b[0m 2ms/step - loss: 0.2894 - mae: 0.3767 - val_loss: 0.2806 - val_mae: 0.3728\n",
            "Epoch 19/100\n",
            "\u001b[1m1032/1032\u001b[0m \u001b[32m━━━━━━━━━━━━━━━━━━━━\u001b[0m\u001b[37m\u001b[0m \u001b[1m2s\u001b[0m 2ms/step - loss: 0.2748 - mae: 0.3651 - val_loss: 0.2881 - val_mae: 0.3633\n",
            "Epoch 20/100\n",
            "\u001b[1m1032/1032\u001b[0m \u001b[32m━━━━━━━━━━━━━━━━━━━━\u001b[0m\u001b[37m\u001b[0m \u001b[1m3s\u001b[0m 2ms/step - loss: 0.2921 - mae: 0.3706 - val_loss: 0.2736 - val_mae: 0.3646\n",
            "Epoch 21/100\n",
            "\u001b[1m1032/1032\u001b[0m \u001b[32m━━━━━━━━━━━━━━━━━━━━\u001b[0m\u001b[37m\u001b[0m \u001b[1m2s\u001b[0m 2ms/step - loss: 0.2828 - mae: 0.3672 - val_loss: 0.2930 - val_mae: 0.3761\n",
            "Epoch 22/100\n",
            "\u001b[1m1032/1032\u001b[0m \u001b[32m━━━━━━━━━━━━━━━━━━━━\u001b[0m\u001b[37m\u001b[0m \u001b[1m2s\u001b[0m 2ms/step - loss: 0.2910 - mae: 0.3751 - val_loss: 0.2699 - val_mae: 0.3577\n",
            "Epoch 23/100\n",
            "\u001b[1m1032/1032\u001b[0m \u001b[32m━━━━━━━━━━━━━━━━━━━━\u001b[0m\u001b[37m\u001b[0m \u001b[1m3s\u001b[0m 2ms/step - loss: 0.2748 - mae: 0.3636 - val_loss: 0.2780 - val_mae: 0.3564\n",
            "Epoch 24/100\n",
            "\u001b[1m1032/1032\u001b[0m \u001b[32m━━━━━━━━━━━━━━━━━━━━\u001b[0m\u001b[37m\u001b[0m \u001b[1m2s\u001b[0m 2ms/step - loss: 0.2935 - mae: 0.3695 - val_loss: 0.2693 - val_mae: 0.3461\n",
            "Epoch 25/100\n",
            "\u001b[1m1032/1032\u001b[0m \u001b[32m━━━━━━━━━━━━━━━━━━━━\u001b[0m\u001b[37m\u001b[0m \u001b[1m2s\u001b[0m 2ms/step - loss: 0.2837 - mae: 0.3664 - val_loss: 0.2820 - val_mae: 0.3726\n",
            "Epoch 26/100\n",
            "\u001b[1m1032/1032\u001b[0m \u001b[32m━━━━━━━━━━━━━━━━━━━━\u001b[0m\u001b[37m\u001b[0m \u001b[1m3s\u001b[0m 2ms/step - loss: 0.2828 - mae: 0.3657 - val_loss: 0.2683 - val_mae: 0.3477\n",
            "Epoch 27/100\n",
            "\u001b[1m1032/1032\u001b[0m \u001b[32m━━━━━━━━━━━━━━━━━━━━\u001b[0m\u001b[37m\u001b[0m \u001b[1m2s\u001b[0m 2ms/step - loss: 0.2802 - mae: 0.3626 - val_loss: 0.2691 - val_mae: 0.3522\n",
            "Epoch 28/100\n",
            "\u001b[1m1032/1032\u001b[0m \u001b[32m━━━━━━━━━━━━━━━━━━━━\u001b[0m\u001b[37m\u001b[0m \u001b[1m4s\u001b[0m 3ms/step - loss: 0.2781 - mae: 0.3619 - val_loss: 0.2647 - val_mae: 0.3497\n",
            "Epoch 29/100\n",
            "\u001b[1m1032/1032\u001b[0m \u001b[32m━━━━━━━━━━━━━━━━━━━━\u001b[0m\u001b[37m\u001b[0m \u001b[1m4s\u001b[0m 2ms/step - loss: 0.2787 - mae: 0.3606 - val_loss: 0.2658 - val_mae: 0.3550\n",
            "Epoch 30/100\n",
            "\u001b[1m1032/1032\u001b[0m \u001b[32m━━━━━━━━━━━━━━━━━━━━\u001b[0m\u001b[37m\u001b[0m \u001b[1m2s\u001b[0m 2ms/step - loss: 0.2744 - mae: 0.3625 - val_loss: 0.2641 - val_mae: 0.3528\n",
            "Epoch 31/100\n",
            "\u001b[1m1032/1032\u001b[0m \u001b[32m━━━━━━━━━━━━━━━━━━━━\u001b[0m\u001b[37m\u001b[0m \u001b[1m2s\u001b[0m 2ms/step - loss: 0.2797 - mae: 0.3643 - val_loss: 0.2720 - val_mae: 0.3525\n",
            "Epoch 32/100\n",
            "\u001b[1m1032/1032\u001b[0m \u001b[32m━━━━━━━━━━━━━━━━━━━━\u001b[0m\u001b[37m\u001b[0m \u001b[1m3s\u001b[0m 2ms/step - loss: 0.2763 - mae: 0.3597 - val_loss: 0.2626 - val_mae: 0.3435\n",
            "Epoch 33/100\n",
            "\u001b[1m1032/1032\u001b[0m \u001b[32m━━━━━━━━━━━━━━━━━━━━\u001b[0m\u001b[37m\u001b[0m \u001b[1m2s\u001b[0m 2ms/step - loss: 0.2573 - mae: 0.3514 - val_loss: 0.2698 - val_mae: 0.3452\n",
            "Epoch 34/100\n",
            "\u001b[1m1032/1032\u001b[0m \u001b[32m━━━━━━━━━━━━━━━━━━━━\u001b[0m\u001b[37m\u001b[0m \u001b[1m2s\u001b[0m 2ms/step - loss: 0.2805 - mae: 0.3605 - val_loss: 0.2708 - val_mae: 0.3464\n",
            "Epoch 35/100\n",
            "\u001b[1m1032/1032\u001b[0m \u001b[32m━━━━━━━━━━━━━━━━━━━━\u001b[0m\u001b[37m\u001b[0m \u001b[1m3s\u001b[0m 2ms/step - loss: 0.2628 - mae: 0.3523 - val_loss: 0.2718 - val_mae: 0.3646\n",
            "Epoch 36/100\n",
            "\u001b[1m1032/1032\u001b[0m \u001b[32m━━━━━━━━━━━━━━━━━━━━\u001b[0m\u001b[37m\u001b[0m \u001b[1m2s\u001b[0m 2ms/step - loss: 0.2738 - mae: 0.3607 - val_loss: 0.2627 - val_mae: 0.3489\n",
            "Epoch 37/100\n",
            "\u001b[1m1032/1032\u001b[0m \u001b[32m━━━━━━━━━━━━━━━━━━━━\u001b[0m\u001b[37m\u001b[0m \u001b[1m2s\u001b[0m 2ms/step - loss: 0.2632 - mae: 0.3551 - val_loss: 0.2657 - val_mae: 0.3491\n",
            "Epoch 38/100\n",
            "\u001b[1m1032/1032\u001b[0m \u001b[32m━━━━━━━━━━━━━━━━━━━━\u001b[0m\u001b[37m\u001b[0m \u001b[1m2s\u001b[0m 2ms/step - loss: 0.2693 - mae: 0.3551 - val_loss: 0.2673 - val_mae: 0.3561\n",
            "Epoch 39/100\n",
            "\u001b[1m1032/1032\u001b[0m \u001b[32m━━━━━━━━━━━━━━━━━━━━\u001b[0m\u001b[37m\u001b[0m \u001b[1m2s\u001b[0m 2ms/step - loss: 0.2812 - mae: 0.3612 - val_loss: 0.2692 - val_mae: 0.3444\n",
            "Epoch 40/100\n",
            "\u001b[1m1032/1032\u001b[0m \u001b[32m━━━━━━━━━━━━━━━━━━━━\u001b[0m\u001b[37m\u001b[0m \u001b[1m2s\u001b[0m 2ms/step - loss: 0.2561 - mae: 0.3475 - val_loss: 0.2691 - val_mae: 0.3556\n",
            "Epoch 41/100\n",
            "\u001b[1m1032/1032\u001b[0m \u001b[32m━━━━━━━━━━━━━━━━━━━━\u001b[0m\u001b[37m\u001b[0m \u001b[1m2s\u001b[0m 2ms/step - loss: 0.2671 - mae: 0.3566 - val_loss: 0.2641 - val_mae: 0.3474\n",
            "Epoch 42/100\n",
            "\u001b[1m1032/1032\u001b[0m \u001b[32m━━━━━━━━━━━━━━━━━━━━\u001b[0m\u001b[37m\u001b[0m \u001b[1m3s\u001b[0m 2ms/step - loss: 0.2695 - mae: 0.3535 - val_loss: 0.2675 - val_mae: 0.3453\n",
            "Epoch 43/100\n",
            "\u001b[1m1032/1032\u001b[0m \u001b[32m━━━━━━━━━━━━━━━━━━━━\u001b[0m\u001b[37m\u001b[0m \u001b[1m2s\u001b[0m 2ms/step - loss: 0.2678 - mae: 0.3546 - val_loss: 0.2617 - val_mae: 0.3422\n",
            "Epoch 44/100\n",
            "\u001b[1m1032/1032\u001b[0m \u001b[32m━━━━━━━━━━━━━━━━━━━━\u001b[0m\u001b[37m\u001b[0m \u001b[1m3s\u001b[0m 2ms/step - loss: 0.2635 - mae: 0.3538 - val_loss: 0.2627 - val_mae: 0.3400\n",
            "Epoch 45/100\n",
            "\u001b[1m1032/1032\u001b[0m \u001b[32m━━━━━━━━━━━━━━━━━━━━\u001b[0m\u001b[37m\u001b[0m \u001b[1m3s\u001b[0m 3ms/step - loss: 0.2691 - mae: 0.3555 - val_loss: 0.2618 - val_mae: 0.3406\n",
            "Epoch 46/100\n",
            "\u001b[1m1032/1032\u001b[0m \u001b[32m━━━━━━━━━━━━━━━━━━━━\u001b[0m\u001b[37m\u001b[0m \u001b[1m3s\u001b[0m 2ms/step - loss: 0.2578 - mae: 0.3513 - val_loss: 0.2627 - val_mae: 0.3396\n",
            "Epoch 47/100\n",
            "\u001b[1m1032/1032\u001b[0m \u001b[32m━━━━━━━━━━━━━━━━━━━━\u001b[0m\u001b[37m\u001b[0m \u001b[1m2s\u001b[0m 2ms/step - loss: 0.2568 - mae: 0.3469 - val_loss: 0.2763 - val_mae: 0.3483\n",
            "Epoch 48/100\n",
            "\u001b[1m1032/1032\u001b[0m \u001b[32m━━━━━━━━━━━━━━━━━━━━\u001b[0m\u001b[37m\u001b[0m \u001b[1m2s\u001b[0m 2ms/step - loss: 0.2585 - mae: 0.3527 - val_loss: 0.2571 - val_mae: 0.3369\n",
            "Epoch 49/100\n",
            "\u001b[1m1032/1032\u001b[0m \u001b[32m━━━━━━━━━━━━━━━━━━━━\u001b[0m\u001b[37m\u001b[0m \u001b[1m2s\u001b[0m 2ms/step - loss: 0.2664 - mae: 0.3532 - val_loss: 0.2643 - val_mae: 0.3437\n",
            "Epoch 50/100\n",
            "\u001b[1m1032/1032\u001b[0m \u001b[32m━━━━━━━━━━━━━━━━━━━━\u001b[0m\u001b[37m\u001b[0m \u001b[1m2s\u001b[0m 2ms/step - loss: 0.2635 - mae: 0.3482 - val_loss: 0.2586 - val_mae: 0.3435\n",
            "Epoch 51/100\n",
            "\u001b[1m1032/1032\u001b[0m \u001b[32m━━━━━━━━━━━━━━━━━━━━\u001b[0m\u001b[37m\u001b[0m \u001b[1m3s\u001b[0m 2ms/step - loss: 0.2692 - mae: 0.3511 - val_loss: 0.2598 - val_mae: 0.3439\n",
            "Epoch 52/100\n",
            "\u001b[1m1032/1032\u001b[0m \u001b[32m━━━━━━━━━━━━━━━━━━━━\u001b[0m\u001b[37m\u001b[0m \u001b[1m2s\u001b[0m 2ms/step - loss: 0.2555 - mae: 0.3495 - val_loss: 0.2605 - val_mae: 0.3427\n",
            "Epoch 53/100\n",
            "\u001b[1m1032/1032\u001b[0m \u001b[32m━━━━━━━━━━━━━━━━━━━━\u001b[0m\u001b[37m\u001b[0m \u001b[1m3s\u001b[0m 2ms/step - loss: 0.2541 - mae: 0.3480 - val_loss: 0.2658 - val_mae: 0.3520\n",
            "Epoch 54/100\n",
            "\u001b[1m1032/1032\u001b[0m \u001b[32m━━━━━━━━━━━━━━━━━━━━\u001b[0m\u001b[37m\u001b[0m \u001b[1m2s\u001b[0m 2ms/step - loss: 0.2626 - mae: 0.3481 - val_loss: 0.2550 - val_mae: 0.3397\n",
            "Epoch 55/100\n",
            "\u001b[1m1032/1032\u001b[0m \u001b[32m━━━━━━━━━━━━━━━━━━━━\u001b[0m\u001b[37m\u001b[0m \u001b[1m2s\u001b[0m 2ms/step - loss: 0.2510 - mae: 0.3427 - val_loss: 0.2659 - val_mae: 0.3454\n",
            "Epoch 56/100\n",
            "\u001b[1m1032/1032\u001b[0m \u001b[32m━━━━━━━━━━━━━━━━━━━━\u001b[0m\u001b[37m\u001b[0m \u001b[1m2s\u001b[0m 2ms/step - loss: 0.2601 - mae: 0.3486 - val_loss: 0.2587 - val_mae: 0.3354\n",
            "Epoch 57/100\n",
            "\u001b[1m1032/1032\u001b[0m \u001b[32m━━━━━━━━━━━━━━━━━━━━\u001b[0m\u001b[37m\u001b[0m \u001b[1m3s\u001b[0m 2ms/step - loss: 0.2512 - mae: 0.3442 - val_loss: 0.2613 - val_mae: 0.3437\n",
            "Epoch 58/100\n",
            "\u001b[1m1032/1032\u001b[0m \u001b[32m━━━━━━━━━━━━━━━━━━━━\u001b[0m\u001b[37m\u001b[0m \u001b[1m3s\u001b[0m 2ms/step - loss: 0.2585 - mae: 0.3507 - val_loss: 0.2663 - val_mae: 0.3442\n",
            "Epoch 59/100\n",
            "\u001b[1m1032/1032\u001b[0m \u001b[32m━━━━━━━━━━━━━━━━━━━━\u001b[0m\u001b[37m\u001b[0m \u001b[1m2s\u001b[0m 2ms/step - loss: 0.2579 - mae: 0.3461 - val_loss: 0.2589 - val_mae: 0.3432\n",
            "Epoch 60/100\n",
            "\u001b[1m1032/1032\u001b[0m \u001b[32m━━━━━━━━━━━━━━━━━━━━\u001b[0m\u001b[37m\u001b[0m \u001b[1m2s\u001b[0m 2ms/step - loss: 0.2507 - mae: 0.3469 - val_loss: 0.2570 - val_mae: 0.3376\n",
            "Epoch 61/100\n",
            "\u001b[1m1032/1032\u001b[0m \u001b[32m━━━━━━━━━━━━━━━━━━━━\u001b[0m\u001b[37m\u001b[0m \u001b[1m3s\u001b[0m 2ms/step - loss: 0.2643 - mae: 0.3489 - val_loss: 0.2653 - val_mae: 0.3565\n",
            "Epoch 62/100\n",
            "\u001b[1m1032/1032\u001b[0m \u001b[32m━━━━━━━━━━━━━━━━━━━━\u001b[0m\u001b[37m\u001b[0m \u001b[1m3s\u001b[0m 2ms/step - loss: 0.2508 - mae: 0.3466 - val_loss: 0.2758 - val_mae: 0.3418\n",
            "Epoch 63/100\n",
            "\u001b[1m1032/1032\u001b[0m \u001b[32m━━━━━━━━━━━━━━━━━━━━\u001b[0m\u001b[37m\u001b[0m \u001b[1m3s\u001b[0m 2ms/step - loss: 0.2647 - mae: 0.3505 - val_loss: 0.2625 - val_mae: 0.3424\n",
            "Epoch 64/100\n",
            "\u001b[1m1032/1032\u001b[0m \u001b[32m━━━━━━━━━━━━━━━━━━━━\u001b[0m\u001b[37m\u001b[0m \u001b[1m2s\u001b[0m 2ms/step - loss: 0.2550 - mae: 0.3460 - val_loss: 0.2619 - val_mae: 0.3391\n",
            "Epoch 65/100\n",
            "\u001b[1m1032/1032\u001b[0m \u001b[32m━━━━━━━━━━━━━━━━━━━━\u001b[0m\u001b[37m\u001b[0m \u001b[1m3s\u001b[0m 2ms/step - loss: 0.2552 - mae: 0.3466 - val_loss: 0.2615 - val_mae: 0.3366\n",
            "Epoch 66/100\n",
            "\u001b[1m1032/1032\u001b[0m \u001b[32m━━━━━━━━━━━━━━━━━━━━\u001b[0m\u001b[37m\u001b[0m \u001b[1m2s\u001b[0m 2ms/step - loss: 0.2590 - mae: 0.3489 - val_loss: 0.2674 - val_mae: 0.3492\n",
            "Epoch 67/100\n",
            "\u001b[1m1032/1032\u001b[0m \u001b[32m━━━━━━━━━━━━━━━━━━━━\u001b[0m\u001b[37m\u001b[0m \u001b[1m2s\u001b[0m 2ms/step - loss: 0.2517 - mae: 0.3447 - val_loss: 0.2572 - val_mae: 0.3336\n",
            "Epoch 68/100\n",
            "\u001b[1m1032/1032\u001b[0m \u001b[32m━━━━━━━━━━━━━━━━━━━━\u001b[0m\u001b[37m\u001b[0m \u001b[1m3s\u001b[0m 2ms/step - loss: 0.2625 - mae: 0.3478 - val_loss: 0.2580 - val_mae: 0.3338\n",
            "Epoch 69/100\n",
            "\u001b[1m1032/1032\u001b[0m \u001b[32m━━━━━━━━━━━━━━━━━━━━\u001b[0m\u001b[37m\u001b[0m \u001b[1m4s\u001b[0m 2ms/step - loss: 0.2589 - mae: 0.3474 - val_loss: 0.2603 - val_mae: 0.3367\n",
            "Epoch 70/100\n",
            "\u001b[1m1032/1032\u001b[0m \u001b[32m━━━━━━━━━━━━━━━━━━━━\u001b[0m\u001b[37m\u001b[0m \u001b[1m2s\u001b[0m 2ms/step - loss: 0.2481 - mae: 0.3442 - val_loss: 0.2594 - val_mae: 0.3354\n",
            "Epoch 71/100\n",
            "\u001b[1m1032/1032\u001b[0m \u001b[32m━━━━━━━━━━━━━━━━━━━━\u001b[0m\u001b[37m\u001b[0m \u001b[1m2s\u001b[0m 2ms/step - loss: 0.2453 - mae: 0.3404 - val_loss: 0.2586 - val_mae: 0.3430\n",
            "Epoch 72/100\n",
            "\u001b[1m1032/1032\u001b[0m \u001b[32m━━━━━━━━━━━━━━━━━━━━\u001b[0m\u001b[37m\u001b[0m \u001b[1m2s\u001b[0m 2ms/step - loss: 0.2485 - mae: 0.3394 - val_loss: 0.2629 - val_mae: 0.3494\n",
            "Epoch 73/100\n",
            "\u001b[1m1032/1032\u001b[0m \u001b[32m━━━━━━━━━━━━━━━━━━━━\u001b[0m\u001b[37m\u001b[0m \u001b[1m2s\u001b[0m 2ms/step - loss: 0.2521 - mae: 0.3443 - val_loss: 0.2558 - val_mae: 0.3318\n",
            "Epoch 74/100\n",
            "\u001b[1m1032/1032\u001b[0m \u001b[32m━━━━━━━━━━━━━━━━━━━━\u001b[0m\u001b[37m\u001b[0m \u001b[1m2s\u001b[0m 2ms/step - loss: 0.2469 - mae: 0.3393 - val_loss: 0.2681 - val_mae: 0.3541\n",
            "Epoch 75/100\n",
            "\u001b[1m1032/1032\u001b[0m \u001b[32m━━━━━━━━━━━━━━━━━━━━\u001b[0m\u001b[37m\u001b[0m \u001b[1m2s\u001b[0m 2ms/step - loss: 0.2622 - mae: 0.3525 - val_loss: 0.2563 - val_mae: 0.3440\n",
            "Epoch 76/100\n",
            "\u001b[1m1032/1032\u001b[0m \u001b[32m━━━━━━━━━━━━━━━━━━━━\u001b[0m\u001b[37m\u001b[0m \u001b[1m5s\u001b[0m 4ms/step - loss: 0.2437 - mae: 0.3368 - val_loss: 0.2601 - val_mae: 0.3381\n",
            "Epoch 77/100\n",
            "\u001b[1m1032/1032\u001b[0m \u001b[32m━━━━━━━━━━━━━━━━━━━━\u001b[0m\u001b[37m\u001b[0m \u001b[1m3s\u001b[0m 2ms/step - loss: 0.2458 - mae: 0.3406 - val_loss: 0.2604 - val_mae: 0.3492\n",
            "Epoch 78/100\n",
            "\u001b[1m1032/1032\u001b[0m \u001b[32m━━━━━━━━━━━━━━━━━━━━\u001b[0m\u001b[37m\u001b[0m \u001b[1m2s\u001b[0m 2ms/step - loss: 0.2566 - mae: 0.3454 - val_loss: 0.2697 - val_mae: 0.3439\n",
            "Epoch 79/100\n",
            "\u001b[1m1032/1032\u001b[0m \u001b[32m━━━━━━━━━━━━━━━━━━━━\u001b[0m\u001b[37m\u001b[0m \u001b[1m2s\u001b[0m 2ms/step - loss: 0.2467 - mae: 0.3402 - val_loss: 0.2577 - val_mae: 0.3458\n",
            "Epoch 80/100\n",
            "\u001b[1m1032/1032\u001b[0m \u001b[32m━━━━━━━━━━━━━━━━━━━━\u001b[0m\u001b[37m\u001b[0m \u001b[1m3s\u001b[0m 2ms/step - loss: 0.2433 - mae: 0.3422 - val_loss: 0.2582 - val_mae: 0.3393\n",
            "Epoch 81/100\n",
            "\u001b[1m1032/1032\u001b[0m \u001b[32m━━━━━━━━━━━━━━━━━━━━\u001b[0m\u001b[37m\u001b[0m \u001b[1m3s\u001b[0m 2ms/step - loss: 0.2521 - mae: 0.3416 - val_loss: 0.2562 - val_mae: 0.3359\n",
            "Epoch 82/100\n",
            "\u001b[1m1032/1032\u001b[0m \u001b[32m━━━━━━━━━━━━━━━━━━━━\u001b[0m\u001b[37m\u001b[0m \u001b[1m2s\u001b[0m 2ms/step - loss: 0.2393 - mae: 0.3378 - val_loss: 0.2611 - val_mae: 0.3428\n",
            "Epoch 83/100\n",
            "\u001b[1m1032/1032\u001b[0m \u001b[32m━━━━━━━━━━━━━━━━━━━━\u001b[0m\u001b[37m\u001b[0m \u001b[1m3s\u001b[0m 2ms/step - loss: 0.2434 - mae: 0.3388 - val_loss: 0.2567 - val_mae: 0.3414\n",
            "Epoch 84/100\n",
            "\u001b[1m1032/1032\u001b[0m \u001b[32m━━━━━━━━━━━━━━━━━━━━\u001b[0m\u001b[37m\u001b[0m \u001b[1m3s\u001b[0m 2ms/step - loss: 0.2432 - mae: 0.3385 - val_loss: 0.2550 - val_mae: 0.3413\n",
            "Epoch 85/100\n",
            "\u001b[1m1032/1032\u001b[0m \u001b[32m━━━━━━━━━━━━━━━━━━━━\u001b[0m\u001b[37m\u001b[0m \u001b[1m3s\u001b[0m 2ms/step - loss: 0.2403 - mae: 0.3393 - val_loss: 0.2625 - val_mae: 0.3422\n",
            "Epoch 86/100\n",
            "\u001b[1m1032/1032\u001b[0m \u001b[32m━━━━━━━━━━━━━━━━━━━━\u001b[0m\u001b[37m\u001b[0m \u001b[1m2s\u001b[0m 2ms/step - loss: 0.2422 - mae: 0.3394 - val_loss: 0.2593 - val_mae: 0.3352\n",
            "Epoch 87/100\n",
            "\u001b[1m1032/1032\u001b[0m \u001b[32m━━━━━━━━━━━━━━━━━━━━\u001b[0m\u001b[37m\u001b[0m \u001b[1m2s\u001b[0m 2ms/step - loss: 0.2497 - mae: 0.3436 - val_loss: 0.2597 - val_mae: 0.3406\n",
            "Epoch 88/100\n",
            "\u001b[1m1032/1032\u001b[0m \u001b[32m━━━━━━━━━━━━━━━━━━━━\u001b[0m\u001b[37m\u001b[0m \u001b[1m3s\u001b[0m 2ms/step - loss: 0.2386 - mae: 0.3379 - val_loss: 0.2641 - val_mae: 0.3523\n",
            "Epoch 89/100\n",
            "\u001b[1m1032/1032\u001b[0m \u001b[32m━━━━━━━━━━━━━━━━━━━━\u001b[0m\u001b[37m\u001b[0m \u001b[1m2s\u001b[0m 2ms/step - loss: 0.2434 - mae: 0.3403 - val_loss: 0.2606 - val_mae: 0.3363\n",
            "Epoch 90/100\n",
            "\u001b[1m1032/1032\u001b[0m \u001b[32m━━━━━━━━━━━━━━━━━━━━\u001b[0m\u001b[37m\u001b[0m \u001b[1m3s\u001b[0m 2ms/step - loss: 0.2383 - mae: 0.3367 - val_loss: 0.2570 - val_mae: 0.3360\n",
            "Epoch 91/100\n",
            "\u001b[1m1032/1032\u001b[0m \u001b[32m━━━━━━━━━━━━━━━━━━━━\u001b[0m\u001b[37m\u001b[0m \u001b[1m2s\u001b[0m 2ms/step - loss: 0.2489 - mae: 0.3418 - val_loss: 0.2608 - val_mae: 0.3416\n",
            "Epoch 92/100\n",
            "\u001b[1m1032/1032\u001b[0m \u001b[32m━━━━━━━━━━━━━━━━━━━━\u001b[0m\u001b[37m\u001b[0m \u001b[1m2s\u001b[0m 2ms/step - loss: 0.2529 - mae: 0.3460 - val_loss: 0.2540 - val_mae: 0.3356\n",
            "Epoch 93/100\n",
            "\u001b[1m1032/1032\u001b[0m \u001b[32m━━━━━━━━━━━━━━━━━━━━\u001b[0m\u001b[37m\u001b[0m \u001b[1m3s\u001b[0m 2ms/step - loss: 0.2560 - mae: 0.3458 - val_loss: 0.2632 - val_mae: 0.3429\n",
            "Epoch 94/100\n",
            "\u001b[1m1032/1032\u001b[0m \u001b[32m━━━━━━━━━━━━━━━━━━━━\u001b[0m\u001b[37m\u001b[0m \u001b[1m3s\u001b[0m 2ms/step - loss: 0.2365 - mae: 0.3339 - val_loss: 0.2591 - val_mae: 0.3402\n",
            "Epoch 95/100\n",
            "\u001b[1m1032/1032\u001b[0m \u001b[32m━━━━━━━━━━━━━━━━━━━━\u001b[0m\u001b[37m\u001b[0m \u001b[1m3s\u001b[0m 2ms/step - loss: 0.2426 - mae: 0.3384 - val_loss: 0.2543 - val_mae: 0.3336\n",
            "Epoch 96/100\n",
            "\u001b[1m1032/1032\u001b[0m \u001b[32m━━━━━━━━━━━━━━━━━━━━\u001b[0m\u001b[37m\u001b[0m \u001b[1m2s\u001b[0m 2ms/step - loss: 0.2466 - mae: 0.3392 - val_loss: 0.2890 - val_mae: 0.3534\n",
            "Epoch 97/100\n",
            "\u001b[1m1032/1032\u001b[0m \u001b[32m━━━━━━━━━━━━━━━━━━━━\u001b[0m\u001b[37m\u001b[0m \u001b[1m2s\u001b[0m 2ms/step - loss: 0.2474 - mae: 0.3413 - val_loss: 0.2624 - val_mae: 0.3331\n",
            "Epoch 98/100\n",
            "\u001b[1m1032/1032\u001b[0m \u001b[32m━━━━━━━━━━━━━━━━━━━━\u001b[0m\u001b[37m\u001b[0m \u001b[1m2s\u001b[0m 2ms/step - loss: 0.2368 - mae: 0.3357 - val_loss: 0.2600 - val_mae: 0.3437\n",
            "Epoch 99/100\n",
            "\u001b[1m1032/1032\u001b[0m \u001b[32m━━━━━━━━━━━━━━━━━━━━\u001b[0m\u001b[37m\u001b[0m \u001b[1m3s\u001b[0m 2ms/step - loss: 0.2482 - mae: 0.3439 - val_loss: 0.2560 - val_mae: 0.3360\n",
            "Epoch 100/100\n",
            "\u001b[1m1032/1032\u001b[0m \u001b[32m━━━━━━━━━━━━━━━━━━━━\u001b[0m\u001b[37m\u001b[0m \u001b[1m3s\u001b[0m 3ms/step - loss: 0.2394 - mae: 0.3357 - val_loss: 0.2520 - val_mae: 0.3289\n"
          ]
        },
        {
          "data": {
            "text/plain": [
              "<keras.src.callbacks.history.History at 0x7ced74d1c950>"
            ]
          },
          "execution_count": 7,
          "metadata": {},
          "output_type": "execute_result"
        }
      ],
      "source": [
        "# Train the model using Backpropagation with increased epochs and different batch size\n",
        "model.fit(X_train, y_train, epochs=100, batch_size=16, validation_data=(X_test, y_test))"
      ]
    },
    {
      "cell_type": "code",
      "execution_count": null,
      "metadata": {
        "colab": {
          "base_uri": "https://localhost:8080/",
          "height": 0
        },
        "id": "A9AoQjmF3yjZ",
        "outputId": "791e5218-76b8-4c56-d9d1-97617cfa9743"
      },
      "outputs": [
        {
          "name": "stdout",
          "output_type": "stream",
          "text": [
            "\u001b[1m129/129\u001b[0m \u001b[32m━━━━━━━━━━━━━━━━━━━━\u001b[0m\u001b[37m\u001b[0m \u001b[1m0s\u001b[0m 1ms/step - loss: 0.2508 - mae: 0.3327\n"
          ]
        }
      ],
      "source": [
        "# Evaluate model performance on test data\n",
        "test_mae = model.evaluate(X_test, y_test)[1]"
      ]
    },
    {
      "cell_type": "code",
      "execution_count": null,
      "metadata": {
        "colab": {
          "base_uri": "https://localhost:8080/",
          "height": 0
        },
        "id": "yOvDPFEX4y9H",
        "outputId": "f33e800d-e0e9-458f-e73c-0fdc65baeb08"
      },
      "outputs": [
        {
          "name": "stdout",
          "output_type": "stream",
          "text": [
            "\u001b[1m1/1\u001b[0m \u001b[32m━━━━━━━━━━━━━━━━━━━━\u001b[0m\u001b[37m\u001b[0m \u001b[1m0s\u001b[0m 60ms/step\n"
          ]
        }
      ],
      "source": [
        "# Make predictions on the test set\n",
        "y_pred = model.predict(X_test[:5]).flatten()"
      ]
    },
    {
      "cell_type": "code",
      "execution_count": null,
      "metadata": {
        "colab": {
          "base_uri": "https://localhost:8080/",
          "height": 0
        },
        "id": "1qo60aZ34105",
        "outputId": "2c4b3e46-2936-4117-d401-1d1b68884b9e"
      },
      "outputs": [
        {
          "name": "stdout",
          "output_type": "stream",
          "text": [
            "Test MAE: 0.32886597514152527\n",
            "Actual Prices: [0.477   0.458   5.00001 2.186   2.78   ]\n",
            "Predicted Prices: [0.564749  1.0922694 5.1393127 2.673568  2.475213 ]\n"
          ]
        }
      ],
      "source": [
        "# Display results\n",
        "print(f\"Test MAE: {test_mae}\")\n",
        "print(\"Actual Prices:\", y_test[:5])\n",
        "print(\"Predicted Prices:\", y_pred)"
      ]
    }
  ],
  "metadata": {
    "colab": {
      "provenance": []
    },
    "kernelspec": {
      "display_name": "Python 3",
      "name": "python3"
    },
    "language_info": {
      "name": "python"
    }
  },
  "nbformat": 4,
  "nbformat_minor": 0
}
